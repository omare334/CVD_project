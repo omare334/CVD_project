{
 "cells": [
  {
   "cell_type": "markdown",
   "source": [
    "creating class to import in ecg and intercardiac file"
   ],
   "metadata": {
    "collapsed": false
   }
  },
  {
   "cell_type": "code",
   "execution_count": 7,
   "outputs": [],
   "source": [
    "#imports\n",
    "import pandas as pd\n",
    "from io import StringIO\n"
   ],
   "metadata": {
    "collapsed": false
   }
  },
  {
   "cell_type": "code",
   "execution_count": 8,
   "outputs": [],
   "source": [
    "\n",
    "class TxtFile:\n",
    "    def __init__(self, filepath, verbose=False):\n",
    "        self.filepath = filepath\n",
    "        self.channels, self.sample_freq, self.data = self.load_file()\n",
    "        if verbose: print(\"Channels: {}\".format(self.channels))\n",
    "\n",
    "    def load_file(self):\n",
    "        with open(self.filepath) as f:\n",
    "            channels, sample_freq = self.load_channels(f)\n",
    "            _ = self._read_until(f, \"[Data]\")\n",
    "            data = f.read()\n",
    "            data = pd.read_table(StringIO(data), names=channels, sep=',')\n",
    "            # data = self.filter_data(data)\n",
    "            return channels, sample_freq, data\n",
    "\n",
    "    def load_channels(self, file):\n",
    "        channels = []\n",
    "        line = self._read_until(file, \"Channels exported:\")\n",
    "        sample_freq = int(self._read_until(file, \"Sample Rate\").rsplit(' ', 1)[-1].rsplit('Hz')[0])\n",
    "        n_channels = int(line.split(' ')[-1])\n",
    "        for n_channel in range(n_channels):\n",
    "            line = self._read_until(file, \"Label:\")\n",
    "            channel_name = line.replace('Label: ', '').rstrip()\n",
    "            channels.append(channel_name)\n",
    "        return channels, sample_freq\n",
    "\n",
    "    @staticmethod\n",
    "    def _read_until(file, string):\n",
    "        line = file.readline()\n",
    "        while string not in line:\n",
    "            line = file.readline()\n",
    "        return line\n"
   ],
   "metadata": {
    "collapsed": false
   }
  },
  {
   "cell_type": "code",
   "execution_count": 11,
   "outputs": [],
   "source": [
    "df = TxtFile(\"C:/Users/omare/OneDrive/Documents/HDA/CVD_project/importing_leads/RRAF1_pre_1_CS.txt\")"
   ],
   "metadata": {
    "collapsed": false
   }
  },
  {
   "cell_type": "code",
   "execution_count": 12,
   "outputs": [
    {
     "data": {
      "text/plain": "(['I', 'aVF', 'V1', 'V6', 'CS 1-2', 'CS 3-4', 'CS 5-6', 'CS 7-8', 'CS 9-10'],\n 1000,\n          I  aVF   V1   V6  CS 1-2  CS 3-4  CS 5-6  CS 7-8  CS 9-10\n 0     -240 -128  464  176      80    -112      64       0        0\n 1     -240 -208  496  176      16     -80      64      32       48\n 2     -224    0  464  160     -48     -80     112      32        0\n 3     -208 -192  448  240      32    -144      48     -16       64\n 4     -240 -192  432  176      32    -128     112      32      -32\n ...    ...  ...  ...  ...     ...     ...     ...     ...      ...\n 59995   48 -240  688 -112      80      48      32    -192      288\n 59996   16 -416  640  -80     144       0      32    -208      304\n 59997   16 -336  624  -96      96     -16      80    -192      304\n 59998    0 -304  640  -64      96     -32     176    -176      224\n 59999   16 -288  640  -96      48     -64     192    -160       64\n \n [60000 rows x 9 columns])"
     },
     "execution_count": 12,
     "metadata": {},
     "output_type": "execute_result"
    }
   ],
   "source": [
    "df.load_file()"
   ],
   "metadata": {
    "collapsed": false
   }
  },
  {
   "cell_type": "markdown",
   "source": [],
   "metadata": {
    "collapsed": false
   }
  }
 ],
 "metadata": {
  "kernelspec": {
   "display_name": "Python 3",
   "language": "python",
   "name": "python3"
  },
  "language_info": {
   "codemirror_mode": {
    "name": "ipython",
    "version": 2
   },
   "file_extension": ".py",
   "mimetype": "text/x-python",
   "name": "python",
   "nbconvert_exporter": "python",
   "pygments_lexer": "ipython2",
   "version": "2.7.6"
  }
 },
 "nbformat": 4,
 "nbformat_minor": 0
}
