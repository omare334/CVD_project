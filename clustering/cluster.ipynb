{
 "cells": [
  {
   "cell_type": "code",
   "execution_count": 1,
   "outputs": [],
   "source": [
    "import numpy as np\n",
    "import pandas as pd"
   ],
   "metadata": {
    "collapsed": false
   }
  },
  {
   "cell_type": "code",
   "execution_count": 18,
   "outputs": [],
   "source": [
    "# importing features\n",
    "features = np.load('features.npy')"
   ],
   "metadata": {
    "collapsed": false
   }
  },
  {
   "cell_type": "code",
   "execution_count": 19,
   "outputs": [
    {
     "data": {
      "text/plain": "array([[0.0000000e+00, 0.0000000e+00, 0.0000000e+00, ..., 0.0000000e+00,\n        0.0000000e+00, 4.3197096e-04],\n       [0.0000000e+00, 1.7636447e-03, 0.0000000e+00, ..., 0.0000000e+00,\n        0.0000000e+00, 0.0000000e+00],\n       [0.0000000e+00, 1.2850218e-03, 0.0000000e+00, ..., 0.0000000e+00,\n        0.0000000e+00, 0.0000000e+00],\n       ...,\n       [1.0030336e-03, 0.0000000e+00, 0.0000000e+00, ..., 0.0000000e+00,\n        0.0000000e+00, 0.0000000e+00],\n       [1.9773721e-05, 0.0000000e+00, 0.0000000e+00, ..., 0.0000000e+00,\n        0.0000000e+00, 0.0000000e+00],\n       [0.0000000e+00, 0.0000000e+00, 5.3060292e-05, ..., 0.0000000e+00,\n        0.0000000e+00, 0.0000000e+00]], dtype=float32)"
     },
     "execution_count": 19,
     "metadata": {},
     "output_type": "execute_result"
    }
   ],
   "source": [
    "features"
   ],
   "metadata": {
    "collapsed": false
   }
  },
  {
   "cell_type": "code",
   "execution_count": 21,
   "outputs": [
    {
     "name": "stdout",
     "output_type": "stream",
     "text": [
      "Are there any NaN values in the array? False\n"
     ]
    }
   ],
   "source": [
    "\n"
   ],
   "metadata": {
    "collapsed": false
   }
  },
  {
   "cell_type": "code",
   "execution_count": 20,
   "outputs": [],
   "source": [
    "from sklearn.cluster import DBSCAN\n",
    "\n",
    "# Create the DBSCAN clusterer\n",
    "dbscan = DBSCAN(eps=0.5, min_samples=5)\n",
    "\n",
    "# Fit the clusterer to the data\n",
    "dbscan.fit(features)\n",
    "\n",
    "# Get the labels (clusters) of each point\n",
    "labels = dbscan.labels_\n"
   ],
   "metadata": {
    "collapsed": false
   }
  },
  {
   "cell_type": "code",
   "execution_count": 16,
   "outputs": [
    {
     "ename": "TypeError",
     "evalue": "'float' object cannot be interpreted as an integer",
     "output_type": "error",
     "traceback": [
      "\u001B[1;31m---------------------------------------------------------------------------\u001B[0m",
      "\u001B[1;31mTypeError\u001B[0m                                 Traceback (most recent call last)",
      "Cell \u001B[1;32mIn[16], line 7\u001B[0m\n\u001B[0;32m      4\u001B[0m clusterer \u001B[38;5;241m=\u001B[39m hdbscan\u001B[38;5;241m.\u001B[39mHDBSCAN(min_cluster_size\u001B[38;5;241m=\u001B[39m\u001B[38;5;241m5\u001B[39m, gen_min_span_tree\u001B[38;5;241m=\u001B[39m\u001B[38;5;28;01mTrue\u001B[39;00m)\n\u001B[0;32m      6\u001B[0m \u001B[38;5;66;03m# Fit the clusterer to the data\u001B[39;00m\n\u001B[1;32m----> 7\u001B[0m \u001B[43mclusterer\u001B[49m\u001B[38;5;241;43m.\u001B[39;49m\u001B[43mfit\u001B[49m\u001B[43m(\u001B[49m\u001B[43mfeatures\u001B[49m\u001B[43m)\u001B[49m\n\u001B[0;32m      9\u001B[0m \u001B[38;5;66;03m# Get the labels (clusters) of each point\u001B[39;00m\n\u001B[0;32m     10\u001B[0m labels \u001B[38;5;241m=\u001B[39m clusterer\u001B[38;5;241m.\u001B[39mlabels_\n",
      "File \u001B[1;32m~\\.conda\\envs\\env\\lib\\site-packages\\hdbscan\\hdbscan_.py:1205\u001B[0m, in \u001B[0;36mHDBSCAN.fit\u001B[1;34m(self, X, y)\u001B[0m\n\u001B[0;32m   1195\u001B[0m kwargs\u001B[38;5;241m.\u001B[39mpop(\u001B[38;5;124m\"\u001B[39m\u001B[38;5;124mprediction_data\u001B[39m\u001B[38;5;124m\"\u001B[39m, \u001B[38;5;28;01mNone\u001B[39;00m)\n\u001B[0;32m   1196\u001B[0m kwargs\u001B[38;5;241m.\u001B[39mupdate(\u001B[38;5;28mself\u001B[39m\u001B[38;5;241m.\u001B[39m_metric_kwargs)\n\u001B[0;32m   1198\u001B[0m (\n\u001B[0;32m   1199\u001B[0m     \u001B[38;5;28mself\u001B[39m\u001B[38;5;241m.\u001B[39mlabels_,\n\u001B[0;32m   1200\u001B[0m     \u001B[38;5;28mself\u001B[39m\u001B[38;5;241m.\u001B[39mprobabilities_,\n\u001B[0;32m   1201\u001B[0m     \u001B[38;5;28mself\u001B[39m\u001B[38;5;241m.\u001B[39mcluster_persistence_,\n\u001B[0;32m   1202\u001B[0m     \u001B[38;5;28mself\u001B[39m\u001B[38;5;241m.\u001B[39m_condensed_tree,\n\u001B[0;32m   1203\u001B[0m     \u001B[38;5;28mself\u001B[39m\u001B[38;5;241m.\u001B[39m_single_linkage_tree,\n\u001B[0;32m   1204\u001B[0m     \u001B[38;5;28mself\u001B[39m\u001B[38;5;241m.\u001B[39m_min_spanning_tree,\n\u001B[1;32m-> 1205\u001B[0m ) \u001B[38;5;241m=\u001B[39m hdbscan(clean_data, \u001B[38;5;241m*\u001B[39m\u001B[38;5;241m*\u001B[39mkwargs)\n\u001B[0;32m   1207\u001B[0m \u001B[38;5;28;01mif\u001B[39;00m \u001B[38;5;28mself\u001B[39m\u001B[38;5;241m.\u001B[39mmetric \u001B[38;5;241m!=\u001B[39m \u001B[38;5;124m\"\u001B[39m\u001B[38;5;124mprecomputed\u001B[39m\u001B[38;5;124m\"\u001B[39m \u001B[38;5;129;01mand\u001B[39;00m \u001B[38;5;129;01mnot\u001B[39;00m \u001B[38;5;28mself\u001B[39m\u001B[38;5;241m.\u001B[39m_all_finite:\n\u001B[0;32m   1208\u001B[0m     \u001B[38;5;66;03m# remap indices to align with original data in the case of non-finite entries.\u001B[39;00m\n\u001B[0;32m   1209\u001B[0m     \u001B[38;5;28mself\u001B[39m\u001B[38;5;241m.\u001B[39m_condensed_tree \u001B[38;5;241m=\u001B[39m remap_condensed_tree(\n\u001B[0;32m   1210\u001B[0m         \u001B[38;5;28mself\u001B[39m\u001B[38;5;241m.\u001B[39m_condensed_tree, internal_to_raw, outliers\n\u001B[0;32m   1211\u001B[0m     )\n",
      "File \u001B[1;32m~\\.conda\\envs\\env\\lib\\site-packages\\hdbscan\\hdbscan_.py:824\u001B[0m, in \u001B[0;36mhdbscan\u001B[1;34m(X, min_cluster_size, min_samples, alpha, cluster_selection_epsilon, max_cluster_size, metric, p, leaf_size, algorithm, memory, approx_min_span_tree, gen_min_span_tree, core_dist_n_jobs, cluster_selection_method, allow_single_cluster, match_reference_implementation, **kwargs)\u001B[0m\n\u001B[0;32m    820\u001B[0m \u001B[38;5;28;01melif\u001B[39;00m metric \u001B[38;5;129;01min\u001B[39;00m KDTREE_VALID_METRICS:\n\u001B[0;32m    821\u001B[0m     \u001B[38;5;66;03m# TO DO: Need heuristic to decide when to go to boruvka;\u001B[39;00m\n\u001B[0;32m    822\u001B[0m     \u001B[38;5;66;03m# still debugging for now\u001B[39;00m\n\u001B[0;32m    823\u001B[0m     \u001B[38;5;28;01mif\u001B[39;00m X\u001B[38;5;241m.\u001B[39mshape[\u001B[38;5;241m1\u001B[39m] \u001B[38;5;241m>\u001B[39m \u001B[38;5;241m60\u001B[39m:\n\u001B[1;32m--> 824\u001B[0m         (single_linkage_tree, result_min_span_tree) \u001B[38;5;241m=\u001B[39m memory\u001B[38;5;241m.\u001B[39mcache(\n\u001B[0;32m    825\u001B[0m             _hdbscan_prims_kdtree\n\u001B[0;32m    826\u001B[0m         )(\n\u001B[0;32m    827\u001B[0m             X,\n\u001B[0;32m    828\u001B[0m             min_samples,\n\u001B[0;32m    829\u001B[0m             alpha,\n\u001B[0;32m    830\u001B[0m             metric,\n\u001B[0;32m    831\u001B[0m             p,\n\u001B[0;32m    832\u001B[0m             leaf_size,\n\u001B[0;32m    833\u001B[0m             gen_min_span_tree,\n\u001B[0;32m    834\u001B[0m             \u001B[38;5;241m*\u001B[39m\u001B[38;5;241m*\u001B[39mkwargs\n\u001B[0;32m    835\u001B[0m         )\n\u001B[0;32m    836\u001B[0m     \u001B[38;5;28;01melse\u001B[39;00m:\n\u001B[0;32m    837\u001B[0m         (single_linkage_tree, result_min_span_tree) \u001B[38;5;241m=\u001B[39m memory\u001B[38;5;241m.\u001B[39mcache(\n\u001B[0;32m    838\u001B[0m             _hdbscan_boruvka_kdtree\n\u001B[0;32m    839\u001B[0m         )(\n\u001B[1;32m   (...)\u001B[0m\n\u001B[0;32m    849\u001B[0m             \u001B[38;5;241m*\u001B[39m\u001B[38;5;241m*\u001B[39mkwargs\n\u001B[0;32m    850\u001B[0m         )\n",
      "File \u001B[1;32m~\\.conda\\envs\\env\\lib\\site-packages\\joblib\\memory.py:349\u001B[0m, in \u001B[0;36mNotMemorizedFunc.__call__\u001B[1;34m(self, *args, **kwargs)\u001B[0m\n\u001B[0;32m    348\u001B[0m \u001B[38;5;28;01mdef\u001B[39;00m \u001B[38;5;21m__call__\u001B[39m(\u001B[38;5;28mself\u001B[39m, \u001B[38;5;241m*\u001B[39margs, \u001B[38;5;241m*\u001B[39m\u001B[38;5;241m*\u001B[39mkwargs):\n\u001B[1;32m--> 349\u001B[0m     \u001B[38;5;28;01mreturn\u001B[39;00m \u001B[38;5;28mself\u001B[39m\u001B[38;5;241m.\u001B[39mfunc(\u001B[38;5;241m*\u001B[39margs, \u001B[38;5;241m*\u001B[39m\u001B[38;5;241m*\u001B[39mkwargs)\n",
      "File \u001B[1;32m~\\.conda\\envs\\env\\lib\\site-packages\\hdbscan\\hdbscan_.py:265\u001B[0m, in \u001B[0;36m_hdbscan_prims_kdtree\u001B[1;34m(X, min_samples, alpha, metric, p, leaf_size, gen_min_span_tree, **kwargs)\u001B[0m\n\u001B[0;32m    260\u001B[0m core_distances \u001B[38;5;241m=\u001B[39m tree\u001B[38;5;241m.\u001B[39mquery(\n\u001B[0;32m    261\u001B[0m     X, k\u001B[38;5;241m=\u001B[39mmin_samples \u001B[38;5;241m+\u001B[39m \u001B[38;5;241m1\u001B[39m, dualtree\u001B[38;5;241m=\u001B[39m\u001B[38;5;28;01mTrue\u001B[39;00m, breadth_first\u001B[38;5;241m=\u001B[39m\u001B[38;5;28;01mTrue\u001B[39;00m\n\u001B[0;32m    262\u001B[0m )[\u001B[38;5;241m0\u001B[39m][:, \u001B[38;5;241m-\u001B[39m\u001B[38;5;241m1\u001B[39m]\u001B[38;5;241m.\u001B[39mcopy(order\u001B[38;5;241m=\u001B[39m\u001B[38;5;124m\"\u001B[39m\u001B[38;5;124mC\u001B[39m\u001B[38;5;124m\"\u001B[39m)\n\u001B[0;32m    264\u001B[0m \u001B[38;5;66;03m# Mutual reachability distance is implicit in mst_linkage_core_vector\u001B[39;00m\n\u001B[1;32m--> 265\u001B[0m min_spanning_tree \u001B[38;5;241m=\u001B[39m \u001B[43mmst_linkage_core_vector\u001B[49m\u001B[43m(\u001B[49m\u001B[43mX\u001B[49m\u001B[43m,\u001B[49m\u001B[43m \u001B[49m\u001B[43mcore_distances\u001B[49m\u001B[43m,\u001B[49m\u001B[43m \u001B[49m\u001B[43mdist_metric\u001B[49m\u001B[43m,\u001B[49m\u001B[43m \u001B[49m\u001B[43malpha\u001B[49m\u001B[43m)\u001B[49m\n\u001B[0;32m    267\u001B[0m \u001B[38;5;66;03m# Sort edges of the min_spanning_tree by weight\u001B[39;00m\n\u001B[0;32m    268\u001B[0m min_spanning_tree \u001B[38;5;241m=\u001B[39m min_spanning_tree[np\u001B[38;5;241m.\u001B[39margsort(min_spanning_tree\u001B[38;5;241m.\u001B[39mT[\u001B[38;5;241m2\u001B[39m]), :]\n",
      "File \u001B[1;32mhdbscan\\\\_hdbscan_linkage.pyx:55\u001B[0m, in \u001B[0;36mhdbscan._hdbscan_linkage.mst_linkage_core_vector\u001B[1;34m()\u001B[0m\n",
      "File \u001B[1;32mhdbscan\\\\_hdbscan_linkage.pyx:144\u001B[0m, in \u001B[0;36mhdbscan._hdbscan_linkage.mst_linkage_core_vector\u001B[1;34m()\u001B[0m\n",
      "\u001B[1;31mTypeError\u001B[0m: 'float' object cannot be interpreted as an integer"
     ]
    }
   ],
   "source": [
    "import hdbscan\n",
    "\n",
    "# Create the HDBSCAN clusterer\n",
    "clusterer = hdbscan.HDBSCAN(min_cluster_size=5, gen_min_span_tree=True)\n",
    "\n",
    "# Fit the clusterer to the data\n",
    "clusterer.fit(features)\n",
    "\n",
    "# Get the labels (clusters) of each point\n",
    "labels = clusterer.labels_\n",
    "\n"
   ],
   "metadata": {
    "collapsed": false
   }
  },
  {
   "cell_type": "code",
   "execution_count": null,
   "outputs": [],
   "source": [
    "import umap\n",
    "import matplotlib.pyplot as plt\n",
    "\n",
    "# Use UMAP for dimension reduction\n",
    "reducer = umap.UMAP(random_state=42)\n",
    "embedding = reducer.fit_transform(features)\n",
    "\n",
    "# Create a scatter plot\n",
    "plt.scatter(embedding[:, 0], embedding[:, 1], c=clusterer.labels_, cmap='Spectral', s=5)\n",
    "plt.gca().set_aspect('equal', 'datalim')\n",
    "plt.colorbar(boundaries=np.arange(len(np.unique(clusterer.labels_)) + 1) - 0.5).set_ticks(np.arange(len(np.unique(clusterer.labels_))))\n",
    "plt.title('UMAP projection of the dataset, colored by cluster labels', fontsize=12)\n",
    "plt.show()\n"
   ],
   "metadata": {
    "collapsed": false
   }
  }
 ],
 "metadata": {
  "kernelspec": {
   "display_name": "Python 3",
   "language": "python",
   "name": "python3"
  },
  "language_info": {
   "codemirror_mode": {
    "name": "ipython",
    "version": 2
   },
   "file_extension": ".py",
   "mimetype": "text/x-python",
   "name": "python",
   "nbconvert_exporter": "python",
   "pygments_lexer": "ipython2",
   "version": "2.7.6"
  }
 },
 "nbformat": 4,
 "nbformat_minor": 0
}
